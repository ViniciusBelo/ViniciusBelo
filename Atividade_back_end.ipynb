{
  "nbformat": 4,
  "nbformat_minor": 0,
  "metadata": {
    "colab": {
      "provenance": [],
      "include_colab_link": true
    },
    "kernelspec": {
      "name": "python3",
      "display_name": "Python 3"
    },
    "language_info": {
      "name": "python"
    }
  },
  "cells": [
    {
      "cell_type": "markdown",
      "metadata": {
        "id": "view-in-github",
        "colab_type": "text"
      },
      "source": [
        "<a href=\"https://colab.research.google.com/github/ViniciusBelo/ViniciusBelo/blob/main/Atividade_back_end.ipynb\" target=\"_parent\"><img src=\"https://colab.research.google.com/assets/colab-badge.svg\" alt=\"Open In Colab\"/></a>"
      ]
    },
    {
      "cell_type": "code",
      "execution_count": null,
      "metadata": {
        "id": "4QCvJ97vUWMT"
      },
      "outputs": [],
      "source": [
        "# Questão 01\n",
        "from datetime import datetime, timedelta\n",
        "\n",
        "dataHoje = datetime.now();\n",
        "dataFutura = dataHoje + timedelta(2);\n",
        "\n",
        "print(dataFutura);"
      ]
    },
    {
      "cell_type": "code",
      "source": [
        "# Questão 02\n",
        "from datetime import datetime\n",
        "\n",
        "data = datetime.now();\n",
        "\n",
        "print(data.date())"
      ],
      "metadata": {
        "id": "_dZ-5I3yVoU4"
      },
      "execution_count": null,
      "outputs": []
    },
    {
      "cell_type": "code",
      "source": [
        "# Questão 03\n",
        "x = {'a1' : {'ab1' : \"Olá mundo!\"}}\n",
        "print(x['a1']['ab1']);"
      ],
      "metadata": {
        "id": "LXqmRrGJWDEf"
      },
      "execution_count": null,
      "outputs": []
    },
    {
      "cell_type": "code",
      "source": [
        "# Questão 04\n",
        "def parouimpar(num):\n",
        "  if num%2 == 0:\n",
        "    return f'Número {num} é par.'\n",
        "  return f'Número {num} é impar.'\n",
        "\n",
        "num = int(input('Informe o número desejado: '))\n",
        "print(parouimpar(num))"
      ],
      "metadata": {
        "id": "pmyksoe0W5T_"
      },
      "execution_count": null,
      "outputs": []
    },
    {
      "cell_type": "code",
      "source": [
        "# Questão 05\n",
        "notas = []\n",
        "contador = 1\n",
        "\n",
        "while(contador <= 4):\n",
        "  notas.append(float(input(f'Insira a {contador}° nota: ')))\n",
        "  contador += 1\n",
        "\n",
        "Nmax = max(notas)\n",
        "Nmin = min(notas)\n",
        "media = sum(notas)/len(notas);\n",
        "\n",
        "print(f'Média: {media}. Maior nota: {Nmax}. Menor nota: {Nmin}')"
      ],
      "metadata": {
        "id": "gfpF5owOYGVz"
      },
      "execution_count": null,
      "outputs": []
    },
    {
      "cell_type": "code",
      "source": [
        "# Questão 06\n",
        "notas = []\n",
        "contador = 1\n",
        "\n",
        "while(contador <= 4):\n",
        "  notas.append(float(input(f'Insira a {contador}° nota: ')))\n",
        "  contador += 1\n",
        "\n",
        "media = sum(notas)/len(notas);\n",
        "print(f'Média: {media}')\n",
        "\n",
        "if media >= 7:\n",
        "    print('APROVADO')\n",
        "else:\n",
        "    notas.append(int(input('Informe a nota da prova final: ')))\n",
        "\n",
        "    media = sum(notas) / len(notas)\n",
        "    print(f'Sua média final foi {media}')\n",
        "    if media >= 5:\n",
        "        print('APROVADO')\n",
        "    else:\n",
        "        print('REPROVADO')"
      ],
      "metadata": {
        "id": "racBoV1ocN3h"
      },
      "execution_count": null,
      "outputs": []
    },
    {
      "cell_type": "code",
      "source": [
        "# Questão 07\n",
        "print('Hello world')"
      ],
      "metadata": {
        "id": "e-FkLZZFdFIw"
      },
      "execution_count": null,
      "outputs": []
    },
    {
      "cell_type": "code",
      "source": [
        "# Questão 08\n",
        "nome = input('Digite seu nome: ')\n",
        "print(f'Olá {nome}, quanto tempo.')"
      ],
      "metadata": {
        "id": "4v0twqfxdpdE"
      },
      "execution_count": null,
      "outputs": []
    },
    {
      "cell_type": "code",
      "source": [
        "# Questão 09\n",
        "num = int(input('Digite o número: '))\n",
        "print(f'{num-1}, {num}, {num+1}')"
      ],
      "metadata": {
        "colab": {
          "base_uri": "https://localhost:8080/"
        },
        "id": "E5ZqMDfaeHG1",
        "outputId": "7f928830-077c-47a1-ebc1-371e1fb9bcc9"
      },
      "execution_count": null,
      "outputs": [
        {
          "output_type": "stream",
          "name": "stdout",
          "text": [
            "Digite o número: 9\n",
            "8, 9, 10\n"
          ]
        }
      ]
    },
    {
      "cell_type": "code",
      "source": [
        "# Questão 10\n",
        "num = int(input('Digite o número: '))\n",
        "print(f'{num:.2f}')"
      ],
      "metadata": {
        "id": "9Sggz1Joe5aX"
      },
      "execution_count": null,
      "outputs": []
    },
    {
      "cell_type": "code",
      "source": [
        "# Questão 11\n",
        "notas = []\n",
        "contador = 1\n",
        "\n",
        "while(contador <= 4):\n",
        "  notas.append(float(input(f'Insira a {contador}° nota: ')))\n",
        "  contador += 1\n",
        "\n",
        "media = sum(notas)/len(notas);\n",
        "print(f'Média: {media}')\n"
      ],
      "metadata": {
        "id": "6vdNMrhffUDc"
      },
      "execution_count": null,
      "outputs": []
    },
    {
      "cell_type": "code",
      "source": [
        "# Questão 12\n",
        "def parouimpar(num):\n",
        "  if num%2 == 0:\n",
        "    return f'Número {num} é par.'\n",
        "  return f'Número {num} é impar.'\n",
        "\n",
        "num = int(input('Informe o número desejado: '))\n",
        "print(parouimpar(num))"
      ],
      "metadata": {
        "id": "BiULXT6Efgd_"
      },
      "execution_count": null,
      "outputs": []
    },
    {
      "cell_type": "code",
      "source": [
        "# Questão 13\n",
        "x = 'Exercícios de Java'\n",
        "print(x.replace('Java', 'Python'))"
      ],
      "metadata": {
        "id": "ZsnDK55bfpaA"
      },
      "execution_count": null,
      "outputs": []
    }
  ]
}